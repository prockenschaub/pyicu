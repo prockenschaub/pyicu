{
 "cells": [
  {
   "cell_type": "code",
   "execution_count": 1,
   "metadata": {},
   "outputs": [],
   "source": [
    "from pathlib import Path\n",
    "from pyicu.configs.load import load_src_cfg\n",
    "from pyicu.data import MIMIC"
   ]
  },
  {
   "cell_type": "markdown",
   "metadata": {},
   "source": [
    "## Concepts\n",
    "Clinical concepts represent the main unit of information in pyicu. Concepts can be diverse and include static information such as demography (e.g., age) or repeated measures such as  vital signs (e.g. heart rate), laboratory values (e.g., creatinine), medications (e.g., administration of antibiotics), etc. \n",
    "\n",
    "Concepts are meant to define stable, meaningful bits of information. However, this information may be stored differently across different data sources. For example, while MIMIC III stores heart rate as a row with `itemid in [211, 220045]`in the table chartevents, eICU stores it as a dedicated column `hr` in the vitalsperiodic table. How exactly the data for a concept is loaded from each data source is therefore defined by one or more Items. \n",
    "\n",
    "The below code demonstrates how pre-defined concepts and items in pyicu can be used to extract age and heart rate from the MIMIC III demo data (note that this requires the demo data to be downloaded, see `01_import_data.ipynb` for instructions)."
   ]
  },
  {
   "cell_type": "code",
   "execution_count": 3,
   "metadata": {},
   "outputs": [
    {
     "ename": "AttributeError",
     "evalue": "'TblCfg' object has no attribute 'imp_files_exist'",
     "output_type": "error",
     "traceback": [
      "\u001b[0;31m---------------------------------------------------------------------------\u001b[0m",
      "\u001b[0;31mAttributeError\u001b[0m                            Traceback (most recent call last)",
      "Cell \u001b[0;32mIn [3], line 6\u001b[0m\n\u001b[1;32m      3\u001b[0m mimic \u001b[39m=\u001b[39m MIMIC(mimic_cfg, data_dir)\n\u001b[1;32m      5\u001b[0m \u001b[39m# Double check that all tables are loaded\u001b[39;00m\n\u001b[0;32m----> 6\u001b[0m mimic\u001b[39m.\u001b[39;49mavailable\n",
      "File \u001b[0;32m~/Library/CloudStorage/GoogleDrive-rockenschaub.patrick@gmail.com/My Drive/Data Science/pyicu/src/pyicu/data/base.py:43\u001b[0m, in \u001b[0;36mSrc.available\u001b[0;34m(self)\u001b[0m\n\u001b[1;32m     41\u001b[0m \u001b[39m@property\u001b[39m\n\u001b[1;32m     42\u001b[0m \u001b[39mdef\u001b[39;00m \u001b[39mavailable\u001b[39m(\u001b[39mself\u001b[39m) \u001b[39m-\u001b[39m\u001b[39m>\u001b[39m \u001b[39mstr\u001b[39m:\n\u001b[0;32m---> 43\u001b[0m     imported \u001b[39m=\u001b[39m [t\u001b[39m.\u001b[39mname \u001b[39mfor\u001b[39;00m t \u001b[39min\u001b[39;00m \u001b[39mself\u001b[39m\u001b[39m.\u001b[39mtbl_cfg \u001b[39mif\u001b[39;00m t\u001b[39m.\u001b[39mimp_files_exist(\u001b[39mself\u001b[39m\u001b[39m.\u001b[39mdata_dir)]\n\u001b[1;32m     44\u001b[0m     \u001b[39mreturn\u001b[39;00m \u001b[39mf\u001b[39m\u001b[39m\"\u001b[39m\u001b[39m{\u001b[39;00m\u001b[39mself\u001b[39m\u001b[39m.\u001b[39mcfg\u001b[39m.\u001b[39mname\u001b[39m}\u001b[39;00m\u001b[39m: \u001b[39m\u001b[39m{\u001b[39;00m\u001b[39mlen\u001b[39m(imported)\u001b[39m}\u001b[39;00m\u001b[39m of \u001b[39m\u001b[39m{\u001b[39;00m\u001b[39mlen\u001b[39m(\u001b[39mself\u001b[39m\u001b[39m.\u001b[39mtables)\u001b[39m}\u001b[39;00m\u001b[39m tables available\u001b[39m\u001b[39m\"\u001b[39m\n",
      "File \u001b[0;32m~/Library/CloudStorage/GoogleDrive-rockenschaub.patrick@gmail.com/My Drive/Data Science/pyicu/src/pyicu/data/base.py:43\u001b[0m, in \u001b[0;36m<listcomp>\u001b[0;34m(.0)\u001b[0m\n\u001b[1;32m     41\u001b[0m \u001b[39m@property\u001b[39m\n\u001b[1;32m     42\u001b[0m \u001b[39mdef\u001b[39;00m \u001b[39mavailable\u001b[39m(\u001b[39mself\u001b[39m) \u001b[39m-\u001b[39m\u001b[39m>\u001b[39m \u001b[39mstr\u001b[39m:\n\u001b[0;32m---> 43\u001b[0m     imported \u001b[39m=\u001b[39m [t\u001b[39m.\u001b[39mname \u001b[39mfor\u001b[39;00m t \u001b[39min\u001b[39;00m \u001b[39mself\u001b[39m\u001b[39m.\u001b[39mtbl_cfg \u001b[39mif\u001b[39;00m t\u001b[39m.\u001b[39;49mimp_files_exist(\u001b[39mself\u001b[39m\u001b[39m.\u001b[39mdata_dir)]\n\u001b[1;32m     44\u001b[0m     \u001b[39mreturn\u001b[39;00m \u001b[39mf\u001b[39m\u001b[39m\"\u001b[39m\u001b[39m{\u001b[39;00m\u001b[39mself\u001b[39m\u001b[39m.\u001b[39mcfg\u001b[39m.\u001b[39mname\u001b[39m}\u001b[39;00m\u001b[39m: \u001b[39m\u001b[39m{\u001b[39;00m\u001b[39mlen\u001b[39m(imported)\u001b[39m}\u001b[39;00m\u001b[39m of \u001b[39m\u001b[39m{\u001b[39;00m\u001b[39mlen\u001b[39m(\u001b[39mself\u001b[39m\u001b[39m.\u001b[39mtables)\u001b[39m}\u001b[39;00m\u001b[39m tables available\u001b[39m\u001b[39m\"\u001b[39m\n",
      "\u001b[0;31mAttributeError\u001b[0m: 'TblCfg' object has no attribute 'imp_files_exist'"
     ]
    }
   ],
   "source": [
    "data_dir = Path(\"examples/data/physionet.org/files/mimiciii-demo/1.4\")\n",
    "mimic_cfg = load_src_cfg(\"mimic_demo\")\n",
    "mimic = MIMIC(mimic_cfg, data_dir)\n",
    "\n",
    "# Double check that all tables are loaded\n",
    "mimic.available"
   ]
  },
  {
   "cell_type": "markdown",
   "metadata": {},
   "source": [
    "As in the previous notebook, we can inspect the dat"
   ]
  },
  {
   "cell_type": "code",
   "execution_count": null,
   "metadata": {},
   "outputs": [],
   "source": []
  }
 ],
 "metadata": {
  "kernelspec": {
   "display_name": "Python 3.10.6 ('pyicu10')",
   "language": "python",
   "name": "python3"
  },
  "language_info": {
   "codemirror_mode": {
    "name": "ipython",
    "version": 3
   },
   "file_extension": ".py",
   "mimetype": "text/x-python",
   "name": "python",
   "nbconvert_exporter": "python",
   "pygments_lexer": "ipython3",
   "version": "3.10.6"
  },
  "orig_nbformat": 4,
  "vscode": {
   "interpreter": {
    "hash": "7a565ed2a7a71e4ba25aeb4ca2f6112de1228457f1e0b5460c7cd0fe6066d8a0"
   }
  }
 },
 "nbformat": 4,
 "nbformat_minor": 2
}
