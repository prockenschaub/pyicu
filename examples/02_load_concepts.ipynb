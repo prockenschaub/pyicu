{
 "cells": [
  {
   "cell_type": "code",
   "execution_count": 6,
   "metadata": {},
   "outputs": [],
   "source": [
    "from pathlib import Path\n",
    "from pyicu.configs.load import load_src_cfg\n",
    "from pyicu.sources import MIMIC\n",
    "from pyicu.concepts import ConceptDict"
   ]
  },
  {
   "attachments": {},
   "cell_type": "markdown",
   "metadata": {},
   "source": [
    "## Clinical concepts\n",
    "Clinical concepts represent the main unit of information in pyicu. Concepts can be diverse and include static information such as demography (e.g., age) or repeated measures such as  vital signs (e.g. heart rate), laboratory values (e.g., creatinine), medications (e.g., administration of antibiotics), etc. \n",
    "\n",
    "Concepts are meant to define stable, meaningful bits of information. However, this information may be stored differently across different data sources. For example, while MIMIC III stores heart rate as a row with `itemid in [211, 220045]`in the table chartevents, eICU stores it as a dedicated column `hr` in the vitalsperiodic table. How exactly the data for a concept is loaded from each data source is therefore defined by one or more Items. \n",
    "\n",
    "The below code demonstrates how pre-defined concepts and items in pyicu can be used to extract age and heart rate from the MIMIC III demo data (note that this requires the demo data to be downloaded, see `01_import_data.ipynb` for instructions)."
   ]
  },
  {
   "cell_type": "code",
   "execution_count": 7,
   "metadata": {},
   "outputs": [],
   "source": [
    "### If the path to the config folder is not found, add the absolute package path to sys.path manually, OR:\n",
    "### --> Run this cell \n",
    "import sys\n",
    "import pyicu\n",
    "if pyicu.__file__.endswith(\"pyicu/src/pyicu/__init__.py\"):\n",
    "    sys.path.append(pyicu.__file__[:-22])"
   ]
  },
  {
   "cell_type": "code",
   "execution_count": 13,
   "metadata": {},
   "outputs": [
    {
     "data": {
      "text/plain": [
       "'mimic: 25 of 25 tables available'"
      ]
     },
     "execution_count": 13,
     "metadata": {},
     "output_type": "execute_result"
    }
   ],
   "source": [
    "data_dir = Path(\"examples/data/physionet.org/files/mimiciii-demo/1.4\")\n",
    "mimic_cfg = load_src_cfg(\"mimic_demo\")\n",
    "mimic_cfg.do_import(data_dir)\n",
    "mimic = MIMIC(mimic_cfg, data_dir)\n",
    "\n",
    "# Double check that all tables are loaded\n",
    "mimic.print_available()"
   ]
  },
  {
   "attachments": {},
   "cell_type": "markdown",
   "metadata": {},
   "source": [
    "As in the previous notebook, we can inspect the underlying raw data as pyarrow datasets. Age information in MIMIC III can be calculated from the date of birth (dob) and admission time (admittime). You can already see that loading this relatively simple information from MIMIC would require you to join tables and do a computation. Furthermore, MIMIC stores the date of birth of patients aged >89 years as 300 years before the first admission of that patient. Naively calculating ages would lead to a couple of very unlikely Methusalahs. "
   ]
  },
  {
   "cell_type": "code",
   "execution_count": 14,
   "metadata": {},
   "outputs": [
    {
     "data": {
      "text/plain": [
       "# <SrcTbl>:  [100 x 8]\n",
       "# Defaults:  `expire_flag` (val)\n",
       "# Time vars: `dob`, `dod`, `dod_hosp`, `dod_ssn`\n",
       "   row_id  subject_id gender        dob        dod   dod_hosp    dod_ssn  \\\n",
       "0    9467       10006      F 2094-03-05 2165-08-12 2165-08-12 2165-08-12   \n",
       "1    9472       10011      F 2090-06-05 2126-08-28 2126-08-28        NaT   \n",
       "2    9474       10013      F 2038-09-03 2125-10-07 2125-10-07 2125-10-07   \n",
       "3    9478       10017      F 2075-09-21 2152-09-12        NaT 2152-09-12   \n",
       "4    9479       10019      M 2114-06-20 2163-05-15 2163-05-15 2163-05-15   \n",
       "\n",
       "   expire_flag  \n",
       "0            1  \n",
       "1            1  \n",
       "2            1  \n",
       "3            1  \n",
       "4            1  \n",
       "... with 95 more rows"
      ]
     },
     "execution_count": 14,
     "metadata": {},
     "output_type": "execute_result"
    }
   ],
   "source": [
    "mimic.patients"
   ]
  },
  {
   "cell_type": "code",
   "execution_count": 15,
   "metadata": {},
   "outputs": [
    {
     "data": {
      "text/plain": [
       "# <SrcTbl>:  [129 x 19]\n",
       "# Defaults:  `admission_type` (val)\n",
       "# Time vars: `admittime`, `dischtime`, `deathtime`, `edregtime`, `edouttime`\n",
       "   row_id  subject_id  hadm_id           admittime           dischtime  \\\n",
       "0   12258       10006   142345 2164-10-23 21:09:00 2164-11-01 17:15:00   \n",
       "1   12263       10011   105331 2126-08-14 22:32:00 2126-08-28 18:59:00   \n",
       "2   12265       10013   165520 2125-10-04 23:36:00 2125-10-07 15:13:00   \n",
       "3   12269       10017   199207 2149-05-26 17:19:00 2149-06-03 18:42:00   \n",
       "4   12270       10019   177759 2163-05-14 20:43:00 2163-05-15 12:00:00   \n",
       "\n",
       "            deathtime admission_type         admission_location  \\\n",
       "0                 NaT      EMERGENCY       EMERGENCY ROOM ADMIT   \n",
       "1 2126-08-28 18:59:00      EMERGENCY  TRANSFER FROM HOSP/EXTRAM   \n",
       "2 2125-10-07 15:13:00      EMERGENCY  TRANSFER FROM HOSP/EXTRAM   \n",
       "3                 NaT      EMERGENCY       EMERGENCY ROOM ADMIT   \n",
       "4 2163-05-15 12:00:00      EMERGENCY  TRANSFER FROM HOSP/EXTRAM   \n",
       "\n",
       "  discharge_location insurance language  religion marital_status  \\\n",
       "0   HOME HEALTH CARE  Medicare           CATHOLIC      SEPARATED   \n",
       "1       DEAD/EXPIRED   Private           CATHOLIC         SINGLE   \n",
       "2       DEAD/EXPIRED  Medicare           CATHOLIC                  \n",
       "3                SNF  Medicare           CATHOLIC       DIVORCED   \n",
       "4       DEAD/EXPIRED  Medicare           CATHOLIC       DIVORCED   \n",
       "\n",
       "                ethnicity           edregtime           edouttime  \\\n",
       "0  BLACK/AFRICAN AMERICAN 2164-10-23 16:43:00 2164-10-23 23:00:00   \n",
       "1   UNKNOWN/NOT SPECIFIED                 NaT                 NaT   \n",
       "2   UNKNOWN/NOT SPECIFIED                 NaT                 NaT   \n",
       "3                   WHITE 2149-05-26 12:08:00 2149-05-26 19:45:00   \n",
       "4                   WHITE                 NaT                 NaT   \n",
       "\n",
       "             diagnosis  hospital_expire_flag  has_chartevents_data  \n",
       "0               SEPSIS                     0                     1  \n",
       "1          HEPATITIS B                     1                     1  \n",
       "2               SEPSIS                     1                     1  \n",
       "3     HUMERAL FRACTURE                     0                     1  \n",
       "4  ALCOHOLIC HEPATITIS                     1                     1  \n",
       "... with 124 more rows"
      ]
     },
     "execution_count": 15,
     "metadata": {},
     "output_type": "execute_result"
    }
   ],
   "source": [
    "mimic.admissions"
   ]
  },
  {
   "attachments": {},
   "cell_type": "markdown",
   "metadata": {},
   "source": [
    "Note that these are not read into memory but are merely mapped. To read a full table into memory, the function `.to_pandas()` can be called. This should only be done for the demo data or for small tables of the full data."
   ]
  },
  {
   "attachments": {},
   "cell_type": "markdown",
   "metadata": {},
   "source": [
    "## Concept dictionary\n",
    "Before we can extract concepts from MIMIC, we must first load the respective concept definitions. In pyicu, these are stored in a `ConceptDict`. Expanding the definitions previously introduced in the R package ricu, pyicu already comes with a large number of pre-defined concepts, among them heart rate."
   ]
  },
  {
   "cell_type": "code",
   "execution_count": 16,
   "metadata": {},
   "outputs": [],
   "source": [
    "concepts = ConceptDict.from_defaults()"
   ]
  },
  {
   "attachments": {},
   "cell_type": "markdown",
   "metadata": {},
   "source": [
    "Heart rate is a numerical concept, i.e., the return value is a continuous number. It is also dynamic, so the target format is a time series represented by a `TsTbl` object, which is a pyicu-specific subtype of a pandas `DataFrame`."
   ]
  },
  {
   "cell_type": "code",
   "execution_count": 17,
   "metadata": {},
   "outputs": [
    {
     "name": "stdout",
     "output_type": "stream",
     "text": [
      "Concept:  <pyicu.concepts.concept.NumConcept object at 0x1440ef970>\n",
      "Items:    [<SelItem:mimic> chartevents.itemid in [211, 220045]]\n"
     ]
    }
   ],
   "source": [
    "print(\"Concept: \", concepts['hr'])\n",
    "print(\"Items:   \", concepts['hr'].src_items(mimic))"
   ]
  },
  {
   "attachments": {},
   "cell_type": "markdown",
   "metadata": {},
   "source": [
    "The data for the concept can be loaded by calling the `load_concepts` function of the concept dictionary, which returns a list with the results of all the concepts requested."
   ]
  },
  {
   "cell_type": "code",
   "execution_count": 18,
   "metadata": {},
   "outputs": [
    {
     "name": "stdout",
     "output_type": "stream",
     "text": [
      "removed 5 (0.03%) of rows due to missing values\n"
     ]
    },
    {
     "data": {
      "text/html": [
       "<div>\n",
       "<style scoped>\n",
       "    .dataframe tbody tr th:only-of-type {\n",
       "        vertical-align: middle;\n",
       "    }\n",
       "\n",
       "    .dataframe tbody tr th {\n",
       "        vertical-align: top;\n",
       "    }\n",
       "\n",
       "    .dataframe thead th {\n",
       "        text-align: right;\n",
       "    }\n",
       "</style>\n",
       "<table border=\"1\" class=\"dataframe\">\n",
       "  <thead>\n",
       "    <tr style=\"text-align: right;\">\n",
       "      <th></th>\n",
       "      <th></th>\n",
       "      <th>hr</th>\n",
       "    </tr>\n",
       "    <tr>\n",
       "      <th>icustay</th>\n",
       "      <th>time</th>\n",
       "      <th></th>\n",
       "    </tr>\n",
       "  </thead>\n",
       "  <tbody>\n",
       "    <tr>\n",
       "      <th rowspan=\"5\" valign=\"top\">201006</th>\n",
       "      <th>-1 days +23:00:00</th>\n",
       "      <td>107.0</td>\n",
       "    </tr>\n",
       "    <tr>\n",
       "      <th>0 days 00:00:00</th>\n",
       "      <td>100.0</td>\n",
       "    </tr>\n",
       "    <tr>\n",
       "      <th>0 days 01:00:00</th>\n",
       "      <td>104.5</td>\n",
       "    </tr>\n",
       "    <tr>\n",
       "      <th>0 days 02:00:00</th>\n",
       "      <td>104.5</td>\n",
       "    </tr>\n",
       "    <tr>\n",
       "      <th>0 days 03:00:00</th>\n",
       "      <td>103.0</td>\n",
       "    </tr>\n",
       "    <tr>\n",
       "      <th>...</th>\n",
       "      <th>...</th>\n",
       "      <td>...</td>\n",
       "    </tr>\n",
       "    <tr>\n",
       "      <th rowspan=\"5\" valign=\"top\">298685</th>\n",
       "      <th>13 days 02:00:00</th>\n",
       "      <td>60.0</td>\n",
       "    </tr>\n",
       "    <tr>\n",
       "      <th>13 days 03:00:00</th>\n",
       "      <td>56.0</td>\n",
       "    </tr>\n",
       "    <tr>\n",
       "      <th>13 days 04:00:00</th>\n",
       "      <td>50.0</td>\n",
       "    </tr>\n",
       "    <tr>\n",
       "      <th>13 days 05:00:00</th>\n",
       "      <td>48.0</td>\n",
       "    </tr>\n",
       "    <tr>\n",
       "      <th>13 days 06:00:00</th>\n",
       "      <td>0.0</td>\n",
       "    </tr>\n",
       "  </tbody>\n",
       "</table>\n",
       "<p>13384 rows × 1 columns</p>\n",
       "</div>"
      ],
      "text/plain": [
       "                             hr\n",
       "icustay time                   \n",
       "201006  -1 days +23:00:00 107.0\n",
       "        0 days 00:00:00   100.0\n",
       "        0 days 01:00:00   104.5\n",
       "        0 days 02:00:00   104.5\n",
       "        0 days 03:00:00   103.0\n",
       "...                         ...\n",
       "298685  13 days 02:00:00   60.0\n",
       "        13 days 03:00:00   56.0\n",
       "        13 days 04:00:00   50.0\n",
       "        13 days 05:00:00   48.0\n",
       "        13 days 06:00:00    0.0\n",
       "\n",
       "[13384 rows x 1 columns]"
      ]
     },
     "execution_count": 18,
     "metadata": {},
     "output_type": "execute_result"
    }
   ],
   "source": [
    "concepts.load_concepts(\"hr\", mimic)"
   ]
  },
  {
   "attachments": {},
   "cell_type": "markdown",
   "metadata": {},
   "source": [
    "Alternatively, the `load()` of the concept can be called directly, which is also what happens under the hood of `load_concepts()`. In either case, the concept needs to be provided with the `Src` from which the data should be loaded."
   ]
  },
  {
   "cell_type": "code",
   "execution_count": 19,
   "metadata": {},
   "outputs": [
    {
     "name": "stdout",
     "output_type": "stream",
     "text": [
      "removed 5 (0.03%) of rows due to missing values\n"
     ]
    },
    {
     "data": {
      "text/html": [
       "<div>\n",
       "<style scoped>\n",
       "    .dataframe tbody tr th:only-of-type {\n",
       "        vertical-align: middle;\n",
       "    }\n",
       "\n",
       "    .dataframe tbody tr th {\n",
       "        vertical-align: top;\n",
       "    }\n",
       "\n",
       "    .dataframe thead th {\n",
       "        text-align: right;\n",
       "    }\n",
       "</style>\n",
       "<table border=\"1\" class=\"dataframe\">\n",
       "  <thead>\n",
       "    <tr style=\"text-align: right;\">\n",
       "      <th></th>\n",
       "      <th></th>\n",
       "      <th>hr</th>\n",
       "    </tr>\n",
       "    <tr>\n",
       "      <th>icustay</th>\n",
       "      <th>time</th>\n",
       "      <th></th>\n",
       "    </tr>\n",
       "  </thead>\n",
       "  <tbody>\n",
       "    <tr>\n",
       "      <th rowspan=\"5\" valign=\"top\">201006</th>\n",
       "      <th>-1 days +23:00:00</th>\n",
       "      <td>107.0</td>\n",
       "    </tr>\n",
       "    <tr>\n",
       "      <th>0 days 00:00:00</th>\n",
       "      <td>100.0</td>\n",
       "    </tr>\n",
       "    <tr>\n",
       "      <th>0 days 01:00:00</th>\n",
       "      <td>104.5</td>\n",
       "    </tr>\n",
       "    <tr>\n",
       "      <th>0 days 02:00:00</th>\n",
       "      <td>104.5</td>\n",
       "    </tr>\n",
       "    <tr>\n",
       "      <th>0 days 03:00:00</th>\n",
       "      <td>103.0</td>\n",
       "    </tr>\n",
       "    <tr>\n",
       "      <th>...</th>\n",
       "      <th>...</th>\n",
       "      <td>...</td>\n",
       "    </tr>\n",
       "    <tr>\n",
       "      <th rowspan=\"5\" valign=\"top\">298685</th>\n",
       "      <th>13 days 02:00:00</th>\n",
       "      <td>60.0</td>\n",
       "    </tr>\n",
       "    <tr>\n",
       "      <th>13 days 03:00:00</th>\n",
       "      <td>56.0</td>\n",
       "    </tr>\n",
       "    <tr>\n",
       "      <th>13 days 04:00:00</th>\n",
       "      <td>50.0</td>\n",
       "    </tr>\n",
       "    <tr>\n",
       "      <th>13 days 05:00:00</th>\n",
       "      <td>48.0</td>\n",
       "    </tr>\n",
       "    <tr>\n",
       "      <th>13 days 06:00:00</th>\n",
       "      <td>0.0</td>\n",
       "    </tr>\n",
       "  </tbody>\n",
       "</table>\n",
       "<p>13384 rows × 1 columns</p>\n",
       "</div>"
      ],
      "text/plain": [
       "                             hr\n",
       "icustay time                   \n",
       "201006  -1 days +23:00:00 107.0\n",
       "        0 days 00:00:00   100.0\n",
       "        0 days 01:00:00   104.5\n",
       "        0 days 02:00:00   104.5\n",
       "        0 days 03:00:00   103.0\n",
       "...                         ...\n",
       "298685  13 days 02:00:00   60.0\n",
       "        13 days 03:00:00   56.0\n",
       "        13 days 04:00:00   50.0\n",
       "        13 days 05:00:00   48.0\n",
       "        13 days 06:00:00    0.0\n",
       "\n",
       "[13384 rows x 1 columns]"
      ]
     },
     "execution_count": 19,
     "metadata": {},
     "output_type": "execute_result"
    }
   ],
   "source": [
    "concepts['hr'].load(mimic)"
   ]
  }
 ],
 "metadata": {
  "kernelspec": {
   "display_name": "Python 3.10.6 ('pyicu10')",
   "language": "python",
   "name": "python3"
  },
  "language_info": {
   "codemirror_mode": {
    "name": "ipython",
    "version": 3
   },
   "file_extension": ".py",
   "mimetype": "text/x-python",
   "name": "python",
   "nbconvert_exporter": "python",
   "pygments_lexer": "ipython3",
   "version": "3.10.6"
  },
  "orig_nbformat": 4,
  "vscode": {
   "interpreter": {
    "hash": "7a565ed2a7a71e4ba25aeb4ca2f6112de1228457f1e0b5460c7cd0fe6066d8a0"
   }
  }
 },
 "nbformat": 4,
 "nbformat_minor": 2
}
